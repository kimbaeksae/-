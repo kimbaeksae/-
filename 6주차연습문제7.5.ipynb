{
 "cells": [
  {
   "cell_type": "code",
   "execution_count": null,
   "metadata": {},
   "outputs": [
    {
     "name": "stdout",
     "output_type": "stream",
     "text": [
      "공백 문자를 입력했습니다.\n"
     ]
    }
   ],
   "source": [
    "#연습문제 7.5\n",
    "\n",
    "char = input('한 문자 입력? ')\n",
    "\n",
    "def find_char_type(c):\n",
    "    if c.isdigit():\n",
    "        return '숫자'\n",
    "    elif c.isupper() or c.islower():\n",
    "        return '알파벳'\n",
    "    elif c.isspace():\n",
    "        return '공백'\n",
    "    else:\n",
    "        return '기타'\n",
    "    \n",
    "\n",
    "\n",
    "print(f'{find_char_type(char)} 문자를 입력했습니다.')"
   ]
  }
 ],
 "metadata": {
  "kernelspec": {
   "display_name": "Python 3",
   "language": "python",
   "name": "python3"
  },
  "language_info": {
   "codemirror_mode": {
    "name": "ipython",
    "version": 3
   },
   "file_extension": ".py",
   "mimetype": "text/x-python",
   "name": "python",
   "nbconvert_exporter": "python",
   "pygments_lexer": "ipython3",
   "version": "3.12.2"
  }
 },
 "nbformat": 4,
 "nbformat_minor": 2
}
