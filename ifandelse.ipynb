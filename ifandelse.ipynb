{
 "cells": [
  {
   "cell_type": "code",
   "execution_count": 1,
   "metadata": {},
   "outputs": [
    {
     "name": "stdout",
     "output_type": "stream",
     "text": [
      "[0, 1, 4, 9, 16, 25, 36, 49, 64, 81]\n"
     ]
    }
   ],
   "source": [
    "s = []\n",
    "for i in range(10):\n",
    "    \n",
    "print(s)"
   ]
  },
  {
   "cell_type": "code",
   "execution_count": 2,
   "metadata": {},
   "outputs": [
    {
     "name": "stdout",
     "output_type": "stream",
     "text": [
      "2000년 2월의 일수는 29일까지 있습니다.\n"
     ]
    }
   ],
   "source": [
    "def is_leap_year(y):\n",
    "    if (y % 4 == 0 and y % 100 != 0) or (y % 400 == 0):\n",
    "        return True\n",
    "    else:\n",
    "        return False\n",
    "year = int(input('연도? '))  \n",
    "y = year\n",
    "\n",
    "def month_days(m) :\n",
    "    if m in [1, 3, 5, 7, 8, 10, 12]:\n",
    "        return 31\n",
    "    elif m in [4, 6, 9, 11]:\n",
    "        return 30\n",
    "    elif m == 2:\n",
    "        if is_leap_year(y):\n",
    "            return 29\n",
    "        else:\n",
    "            return 28\n",
    "    else:\n",
    "        return '유효한 값이 아닙니다.'\n",
    "    \n",
    "month = int(input('월? '))\n",
    "m = month\n",
    "\n",
    "print(f'{y}년 {m}월의 일수는 {month_days(m)}일까지 있습니다.') \n",
    "\n"
   ]
  },
  {
   "cell_type": "code",
   "execution_count": null,
   "metadata": {},
   "outputs": [],
   "source": []
  },
  {
   "cell_type": "code",
   "execution_count": 6,
   "metadata": {},
   "outputs": [
    {
     "name": "stdout",
     "output_type": "stream",
     "text": [
      "영 영 육 "
     ]
    }
   ],
   "source": [
    "number = input(\"세 자리 정수 입력: \")\n",
    "\n",
    "def read_single_digit(n) :\n",
    "    digit_kor = ['영', '일', '이', '삼', '사', '오', '육', '칠', '팔', '구']\n",
    "    print(digit_kor[int(n)], end=' ')\n",
    "\n",
    "def read_number(n) :\n",
    "    num = str(n)\n",
    "    for i in range(len(num)):\n",
    "        read_single_digit(num[i])\n",
    "\n",
    "if len(number) > 3 or not number.isdigit():\n",
    "    print(\"세 자리 이하 정수가 아닙니다.\")\n",
    "else:\n",
    "    read_number(number)"
   ]
  },
  {
   "cell_type": "code",
   "execution_count": null,
   "metadata": {},
   "outputs": [],
   "source": []
  }
 ],
 "metadata": {
  "kernelspec": {
   "display_name": "Python 3",
   "language": "python",
   "name": "python3"
  },
  "language_info": {
   "codemirror_mode": {
    "name": "ipython",
    "version": 3
   },
   "file_extension": ".py",
   "mimetype": "text/x-python",
   "name": "python",
   "nbconvert_exporter": "python",
   "pygments_lexer": "ipython3",
   "version": "3.12.2"
  }
 },
 "nbformat": 4,
 "nbformat_minor": 2
}
