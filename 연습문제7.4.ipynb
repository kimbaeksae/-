{
 "cells": [
  {
   "cell_type": "code",
   "execution_count": 2,
   "metadata": {},
   "outputs": [
    {
     "name": "stdout",
     "output_type": "stream",
     "text": [
      "다죽자\n"
     ]
    }
   ],
   "source": [
    "print('다죽자')"
   ]
  },
  {
   "cell_type": "code",
   "execution_count": 6,
   "metadata": {},
   "outputs": [
    {
     "name": "stdout",
     "output_type": "stream",
     "text": [
      "당신은 성인이 아닙니다.\n"
     ]
    }
   ],
   "source": [
    "input_age = int(input('나이? '))\n",
    "\n",
    "def is_adult(a) :\n",
    "    if a >= 19 :\n",
    "        return '당신은 성인입니다.'\n",
    "    elif a > 0 and a < 19 :\n",
    "        return '당신은 성인이 아닙니다.'\n",
    "    else:\n",
    "        return '오류: 유효하지 않은 나이가 입력되어 판별할 수 없습니다!'\n",
    "\n",
    "print(is_adult(input_age))\n",
    "\n"
   ]
  },
  {
   "cell_type": "code",
   "execution_count": 8,
   "metadata": {},
   "outputs": [
    {
     "name": "stdout",
     "output_type": "stream",
     "text": [
      "오류: 유효하지 않은 나이가 입력되어 판별할 수 없습니다!\n"
     ]
    }
   ],
   "source": [
    "def input_age(prompt):\n",
    "    age = int(input(prompt))\n",
    "    if 0 <= age <= 120:\n",
    "        return age\n",
    "    else:\n",
    "        return -1\n",
    "\n",
    "def is_adult(age):\n",
    "    return age >= 19\n",
    "\n",
    "age = input_age('나이? ')\n",
    "\n",
    "if age == -1:\n",
    "    print('오류: 유효하지 않은 나이가 입력되어 판별할 수 없습니다!')\n",
    "elif is_adult(age):\n",
    "    print('당신은 성인입니다.')\n",
    "else:\n",
    "    print('당신은 성인이 아닙니다.')"
   ]
  }
 ],
 "metadata": {
  "kernelspec": {
   "display_name": "Python 3",
   "language": "python",
   "name": "python3"
  },
  "language_info": {
   "codemirror_mode": {
    "name": "ipython",
    "version": 3
   },
   "file_extension": ".py",
   "mimetype": "text/x-python",
   "name": "python",
   "nbconvert_exporter": "python",
   "pygments_lexer": "ipython3",
   "version": "3.12.2"
  }
 },
 "nbformat": 4,
 "nbformat_minor": 2
}
