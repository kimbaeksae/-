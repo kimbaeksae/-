{
 "cells": [
  {
   "cell_type": "code",
   "execution_count": 20,
   "metadata": {},
   "outputs": [
    {
     "name": "stdout",
     "output_type": "stream",
     "text": [
      "어서오세요, 문이 열렸습니다!\n"
     ]
    }
   ],
   "source": [
    "pwd = input('비밀번호? ')\n",
    "\n",
    "while pwd != '1234':\n",
    "    pwd = input('비밀번호? ')\n",
    "\n",
    "print('어서오세요, 문이 열렸습니다!')    "
   ]
  },
  {
   "cell_type": "code",
   "execution_count": 21,
   "metadata": {},
   "outputs": [
    {
     "name": "stdout",
     "output_type": "stream",
     "text": [
      "어서오세요, 문이 열렸습니다!\n"
     ]
    }
   ],
   "source": [
    "pwd = ' '\n",
    "\n",
    "while pwd != '1234':\n",
    "    pwd = input('비밀번호? ')\n",
    "\n",
    "print('어서오세요, 문이 열렸습니다!')  "
   ]
  },
  {
   "cell_type": "code",
   "execution_count": 22,
   "metadata": {},
   "outputs": [
    {
     "name": "stdout",
     "output_type": "stream",
     "text": [
      "1\n",
      "2\n",
      "3\n",
      "4\n",
      "5\n"
     ]
    }
   ],
   "source": [
    "cnt = 1\n",
    "print(cnt)\n",
    "\n",
    "while cnt < 5:\n",
    "    cnt += 1\n",
    "    print(cnt)"
   ]
  },
  {
   "cell_type": "code",
   "execution_count": 23,
   "metadata": {},
   "outputs": [
    {
     "name": "stdout",
     "output_type": "stream",
     "text": [
      "10\n",
      "20\n",
      "30\n",
      "40\n",
      "50\n"
     ]
    }
   ],
   "source": [
    "cnt = 0\n",
    "\n",
    "while cnt < 50:\n",
    "    cnt += 10\n",
    "    print(cnt)"
   ]
  },
  {
   "cell_type": "code",
   "execution_count": 24,
   "metadata": {},
   "outputs": [
    {
     "name": "stdout",
     "output_type": "stream",
     "text": [
      "h\n",
      "e\n",
      "l\n",
      "l\n",
      "o\n"
     ]
    }
   ],
   "source": [
    "#for 변수 in 범위표현식 :\n",
    "#범위표현식 안 문자열 값 하나하나씩 변수에 전달됨\n",
    "\n",
    "\n",
    "msg = 'hello'\n",
    "for ch in msg:\n",
    "    print(ch)"
   ]
  },
  {
   "cell_type": "code",
   "execution_count": 25,
   "metadata": {},
   "outputs": [
    {
     "name": "stdout",
     "output_type": "stream",
     "text": [
      "0 1 2 3 4 5 6 7 8 9 "
     ]
    }
   ],
   "source": [
    "for i in range(0, 10, 1) :\n",
    "    print(i, end=' ')\n"
   ]
  },
  {
   "cell_type": "code",
   "execution_count": 26,
   "metadata": {},
   "outputs": [
    {
     "name": "stdout",
     "output_type": "stream",
     "text": [
      "0 1 2 3 4 5 6 7 8 9 \n",
      "0 1 2 3 4 5 6 7 8 9 \n",
      "0 1 2 3 4 5 6 7 8 9 \n",
      "10 9 8 7 6 5 4 3 2 1 "
     ]
    }
   ],
   "source": [
    "for i in range(0, 10, 1) :\n",
    "    print(i, end=' ')\n",
    "\n",
    "print()\n",
    "\n",
    "for i in range(0, 10) :\n",
    "    print(i, end=' ')\n",
    "\n",
    "print()\n",
    "\n",
    "\n",
    "for i in range(10) :\n",
    "    print(i, end=' ')\n",
    "\n",
    "print()\n",
    "\n",
    "\n",
    "for i in range(10, 0, -1) :\n",
    "    print(i, end=' ')"
   ]
  },
  {
   "cell_type": "code",
   "execution_count": 27,
   "metadata": {},
   "outputs": [
    {
     "name": "stdout",
     "output_type": "stream",
     "text": [
      "1 2 3 4 5 6 7 8 9 10 11 12 13 14 15 \n",
      "1 2 3 4 5 6 7 8 9 10 11 12 13 14 15 \n",
      "1 2 3 4 5 6 7 8 9 10 11 12 13 14 15 \n"
     ]
    }
   ],
   "source": [
    "for s in range(3):\n",
    "    n = 15\n",
    "    for cnt in range(1, n+1):\n",
    "        print(cnt, end=' ')\n",
    "    print()\n",
    "   "
   ]
  },
  {
   "cell_type": "code",
   "execution_count": 28,
   "metadata": {},
   "outputs": [
    {
     "name": "stdout",
     "output_type": "stream",
     "text": [
      "2 * 1 = 2\n",
      "2 * 2 = 4\n",
      "2 * 3 = 6\n",
      "2 * 4 = 8\n",
      "2 * 5 = 10\n",
      "2 * 6 = 12\n",
      "2 * 7 = 14\n",
      "2 * 8 = 16\n",
      "2 * 9 = 18\n"
     ]
    }
   ],
   "source": [
    "#실습예제: 구구단 출력\n",
    "\n",
    "num = 0\n",
    "\n",
    "while int(num) <= 0:\n",
    "    num = input('출력할 구구단을 양의 정수로 입력하세요: ')\n",
    "    \n",
    "for i in range(1, 10):\n",
    "        print(f'{int(num)} * {i} = {int(num) * i}')"
   ]
  },
  {
   "cell_type": "code",
   "execution_count": 29,
   "metadata": {},
   "outputs": [
    {
     "name": "stdout",
     "output_type": "stream",
     "text": [
      "2 * 1 = 2\n",
      "2 * 2 = 4\n",
      "2 * 3 = 6\n",
      "2 * 4 = 8\n",
      "2 * 5 = 10\n",
      "2 * 6 = 12\n",
      "2 * 7 = 14\n",
      "2 * 8 = 16\n",
      "2 * 9 = 18\n"
     ]
    }
   ],
   "source": [
    "def input_positive_number(prompt):\n",
    "    n = 0\n",
    "    while n <= 0:\n",
    "        n = int(input(prompt))\n",
    "    return n\n",
    "\n",
    "n = input_positive_number('출력할 구구단을 양의 정수로 입력하세요: ')\n",
    "\n",
    "#for문 사용\n",
    "\n",
    "3\n",
    "def display_multification_table(n):\n",
    "    for i in range(1, 10):\n",
    "        print(f'{n} * {i} = {n * i}')\n",
    "\n",
    "display_multification_table(n)"
   ]
  },
  {
   "cell_type": "code",
   "execution_count": 30,
   "metadata": {},
   "outputs": [
    {
     "name": "stdout",
     "output_type": "stream",
     "text": [
      "2 * 2 = 4\n",
      "2 * 3 = 6\n",
      "2 * 4 = 8\n",
      "2 * 5 = 10\n",
      "2 * 6 = 12\n",
      "2 * 7 = 14\n",
      "2 * 8 = 16\n",
      "2 * 9 = 18\n"
     ]
    }
   ],
   "source": [
    "def input_positive_number(prompt):\n",
    "    n = 0\n",
    "    while n <= 0:\n",
    "        n = int(input(prompt))\n",
    "    return n\n",
    "\n",
    "n = input_positive_number('출력할 구구단을 양의 정수로 입력하세요: ')\n",
    "\n",
    "#while문 사용\n",
    "\n",
    "def display_multification_table(i):\n",
    "    while i <= 9:\n",
    "        print(f'{n} * {i} = {n * i}')\n",
    "        i = i + 1\n",
    "\n",
    "display_multification_table(n)\n",
    "        "
   ]
  },
  {
   "cell_type": "code",
   "execution_count": 31,
   "metadata": {},
   "outputs": [
    {
     "name": "stdout",
     "output_type": "stream",
     "text": [
      "어서오세요, 문이 열렸습니다!\n"
     ]
    }
   ],
   "source": [
    "pwd = ' '\n",
    "\n",
    "while pwd != '1234':\n",
    "    pwd = input('비밀번호? ')\n",
    "\n",
    "    if pwd == '1234' :\n",
    "        break\n",
    "\n",
    "print('어서오세요, 문이 열렸습니다!')"
   ]
  },
  {
   "cell_type": "code",
   "execution_count": 32,
   "metadata": {},
   "outputs": [
    {
     "name": "stdout",
     "output_type": "stream",
     "text": [
      "당신은 성인이 아닙니다.\n"
     ]
    }
   ],
   "source": [
    "def input_age(prompt):\n",
    "    while True:     #밑에 조건문 충족될때까지 무한 반복\n",
    "        n = int(input(prompt))\n",
    "\n",
    "        if 0 <= n <= 120:       \n",
    "            return n\n",
    "\n",
    "def is_adult(age):\n",
    "    if age >= 19:\n",
    "        return True\n",
    "    else:\n",
    "        return False\n",
    "\n",
    "age = input_age('나이? ')\n",
    "\n",
    "if age == -1:\n",
    "    print('오류: 유효하지 않은 나이가 입력되어 판별할 수 없습니다!')\n",
    "elif is_adult(age):\n",
    "    print('당신은 성인입니다.')\n",
    "else:\n",
    "    print('당신은 성인이 아닙니다.')\n",
    "\n"
   ]
  },
  {
   "cell_type": "code",
   "execution_count": 33,
   "metadata": {},
   "outputs": [
    {
     "name": "stdout",
     "output_type": "stream",
     "text": [
      "2년은 평년입니다.\n"
     ]
    }
   ],
   "source": [
    "def is_leap_year(y):\n",
    "    if (y % 4 == 0 and y % 100 != 0) or (y % 400 == 0):\n",
    "        return True\n",
    "    else:\n",
    "        return False\n",
    "    \n",
    "while True:\n",
    "    y = int(input('윤년 여부를 확인할 연도는? '))\n",
    "\n",
    "    if is_leap_year(y):\n",
    "        print(f'{y}년은 윤년입니다.')\n",
    "    else:\n",
    "        print(f'{y}년은 평년입니다.')\n",
    "\n",
    "    rep = input('다른 연도도 확인하시겠습니까? ')\n",
    "    if rep == 'y' or rep == 'Y':\n",
    "        print()\n",
    "    else:\n",
    "        break\n",
    "\n",
    "#rep = input('다른 연도도 확인하시겠습니까? ')\n",
    "    #if rep != 'y' and rep != 'Y':\n",
    "        #break\n",
    "    #print()\n",
    "\n",
    " "
   ]
  },
  {
   "cell_type": "code",
   "execution_count": 34,
   "metadata": {},
   "outputs": [
    {
     "name": "stdout",
     "output_type": "stream",
     "text": [
      "1 \n",
      "1 2 \n"
     ]
    }
   ],
   "source": [
    "def triangle(height) :\n",
    "    for i in range(1, height + 1):  # 줄 수 결정\n",
    "        for j in range(1, i + 1):   # 각 줄에 출력할 숫자 결정\n",
    "            print(j, end=' ')\n",
    "        print()\n",
    "\n",
    "h = int(input('높이? '))\n",
    "triangle(h)\n"
   ]
  },
  {
   "cell_type": "code",
   "execution_count": 35,
   "metadata": {},
   "outputs": [],
   "source": [
    "def triangle(height, ch = '*') :\n",
    "    for i in range(1, height + 1):  # 줄 수 결정\n",
    "        draw_line(' ', height - i)  # 공백 수 결정(공백도 문자이므로 draw_line 함수 사용함)\n",
    "        draw_line(ch, i)            # for문에서 받아온 i값으로 별 수 결정\n",
    "        print()\n",
    "\n",
    "def draw_line(ch, n):\n",
    "    print(ch * n, end='') # 별 개수 정하는 함수\n",
    "\n",
    "h = int(input('높이? '))\n",
    "# h : 함수 밖에서 쓰는 변수\n",
    "# height : 함수 안에서 쓰는 변수"
   ]
  },
  {
   "cell_type": "code",
   "execution_count": null,
   "metadata": {},
   "outputs": [],
   "source": []
  },
  {
   "cell_type": "code",
   "execution_count": 36,
   "metadata": {},
   "outputs": [
    {
     "name": "stdout",
     "output_type": "stream",
     "text": [
      " *\n",
      "**\n"
     ]
    }
   ],
   "source": [
    "def triangle(height, ch = '*') :\n",
    "    for i in range(1, height + 1):\n",
    "        print(' ' * (height - i), end='')\n",
    "        print(ch * i)\n",
    "\n",
    "h = int(input('높이? '))\n",
    "triangle(h)"
   ]
  },
  {
   "cell_type": "code",
   "execution_count": 37,
   "metadata": {},
   "outputs": [
    {
     "name": "stdout",
     "output_type": "stream",
     "text": [
      "2 * 1 = 2\n",
      "2 * 2 = 4\n",
      "2 * 3 = 6\n",
      "2 * 4 = 8\n",
      "2 * 5 = 10\n",
      "2 * 6 = 12\n",
      "2 * 7 = 14\n",
      "2 * 8 = 16\n",
      "2 * 9 = 18\n"
     ]
    }
   ],
   "source": [
    "def input_positive_number(prompt):\n",
    "    n = 0\n",
    "    while n <= 0:\n",
    "        n = int(input(prompt)) # 0이하가 아닌 n값을 입력할 때까지 반복\n",
    "    return n\n",
    "\n",
    "n = input_positive_number('퉁퉁퉁퉁퉁퉁퉁퉁퉁 사후르: ')\n",
    "\n",
    "def display_multification_table(i):\n",
    "    i = 1\n",
    "    while i <= 9:\n",
    "        print(f'{n} * {i} = {n * i}')\n",
    "        i = i + 1\n",
    "\n",
    "display_multification_table(n)"
   ]
  },
  {
   "cell_type": "code",
   "execution_count": 72,
   "metadata": {},
   "outputs": [
    {
     "name": "stdout",
     "output_type": "stream",
     "text": [
      "2 * 1 = 2\t3 * 1 = 3\t4 * 1 = 4\t5 * 1 = 5\t\n",
      "2 * 2 = 4\t3 * 2 = 6\t4 * 2 = 8\t5 * 2 = 10\t\n",
      "2 * 3 = 6\t3 * 3 = 9\t4 * 3 = 12\t5 * 3 = 15\t\n",
      "2 * 4 = 8\t3 * 4 = 12\t4 * 4 = 16\t5 * 4 = 20\t\n",
      "2 * 5 = 10\t3 * 5 = 15\t4 * 5 = 20\t5 * 5 = 25\t\n",
      "2 * 6 = 12\t3 * 6 = 18\t4 * 6 = 24\t5 * 6 = 30\t\n",
      "2 * 7 = 14\t3 * 7 = 21\t4 * 7 = 28\t5 * 7 = 35\t\n",
      "2 * 8 = 16\t3 * 8 = 24\t4 * 8 = 32\t5 * 8 = 40\t\n",
      "2 * 9 = 18\t3 * 9 = 27\t4 * 9 = 36\t5 * 9 = 45\t\n",
      "6 * 1 = 6\t7 * 1 = 7\t8 * 1 = 8\t9 * 1 = 9\t10 * 1 = 10\t\n",
      "6 * 2 = 12\t7 * 2 = 14\t8 * 2 = 16\t9 * 2 = 18\t10 * 2 = 20\t\n",
      "6 * 3 = 18\t7 * 3 = 21\t8 * 3 = 24\t9 * 3 = 27\t10 * 3 = 30\t\n",
      "6 * 4 = 24\t7 * 4 = 28\t8 * 4 = 32\t9 * 4 = 36\t10 * 4 = 40\t\n",
      "6 * 5 = 30\t7 * 5 = 35\t8 * 5 = 40\t9 * 5 = 45\t10 * 5 = 50\t\n",
      "6 * 6 = 36\t7 * 6 = 42\t8 * 6 = 48\t9 * 6 = 54\t10 * 6 = 60\t\n",
      "6 * 7 = 42\t7 * 7 = 49\t8 * 7 = 56\t9 * 7 = 63\t10 * 7 = 70\t\n",
      "6 * 8 = 48\t7 * 8 = 56\t8 * 8 = 64\t9 * 8 = 72\t10 * 8 = 80\t\n",
      "6 * 9 = 54\t7 * 9 = 63\t8 * 9 = 72\t9 * 9 = 81\t10 * 9 = 90\t\n"
     ]
    }
   ],
   "source": [
    "def display_multiplication_table(start, end):\n",
    "    for i in range(1, 10):\n",
    "        for j in range(start, end + 1):       \n",
    "                print(f'{j} * {i} = {j * i}', end='\\t')\n",
    "        print() \n",
    "\n",
    "display_multiplication_table(2, 5)\n",
    "display_multiplication_table(6, 10)\n"
   ]
  },
  {
   "cell_type": "code",
   "execution_count": null,
   "metadata": {},
   "outputs": [],
   "source": []
  }
 ],
 "metadata": {
  "kernelspec": {
   "display_name": "Python 3",
   "language": "python",
   "name": "python3"
  },
  "language_info": {
   "codemirror_mode": {
    "name": "ipython",
    "version": 3
   },
   "file_extension": ".py",
   "mimetype": "text/x-python",
   "name": "python",
   "nbconvert_exporter": "python",
   "pygments_lexer": "ipython3",
   "version": "3.12.2"
  }
 },
 "nbformat": 4,
 "nbformat_minor": 2
}
